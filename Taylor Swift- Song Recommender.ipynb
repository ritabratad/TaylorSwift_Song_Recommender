{
 "cells": [
  {
   "cell_type": "markdown",
   "metadata": {},
   "source": [
    "**Many of us love the songs of Taylor Swift right? Why not try to build a simple song-recommender based on it?**\n"
   ]
  },
  {
   "cell_type": "markdown",
   "metadata": {},
   "source": [
    "For making this, I have taken major inspiration from the following blog post- https://towardsdatascience.com/the-abc-of-building-a-music-recommender-system-part-i-230e99da9cad"
   ]
  },
  {
   "cell_type": "markdown",
   "metadata": {},
   "source": [
    "# 1. Importing Necessary Values"
   ]
  },
  {
   "cell_type": "code",
   "execution_count": 6,
   "metadata": {
    "_cell_guid": "79c7e3d0-c299-4dcb-8224-4455121ee9b0",
    "_uuid": "d629ff2d2480ee46fbb7e2d37f6b5fab8052498a"
   },
   "outputs": [],
   "source": [
    "import pandas as pd\n",
    "from pandas import DataFrame\n",
    "import numpy as np\n",
    "import matplotlib.pyplot as plt\n",
    "from sklearn.feature_extraction.text import TfidfVectorizer #for TFIDF \n"
   ]
  },
  {
   "cell_type": "code",
   "execution_count": 7,
   "metadata": {},
   "outputs": [],
   "source": [
    "def clean_lyric(lyric): #first layer of cleaning(remo)\n",
    "    if '[' in lyric:\n",
    "        return ''\n",
    "    else:\n",
    "        return lyric"
   ]
  },
  {
   "cell_type": "markdown",
   "metadata": {},
   "source": [
    "## 2. Loading Data file"
   ]
  },
  {
   "cell_type": "code",
   "execution_count": 8,
   "metadata": {},
   "outputs": [],
   "source": [
    "df = pd.read_csv('final_taylor_swift_lyrics.tsv', sep= '\\t')\n"
   ]
  },
  {
   "cell_type": "code",
   "execution_count": 9,
   "metadata": {},
   "outputs": [
    {
     "name": "stdout",
     "output_type": "stream",
     "text": [
      "index                                                           0\n",
      "album                                                       Lover\n",
      "song_title                                                 Lover \n",
      "lyric           We could leave the Christmas lights up 'til Ja...\n",
      "line_number                                                     1\n",
      "release_date                                           2019-08-16\n",
      "Name: 1, dtype: object\n"
     ]
    }
   ],
   "source": [
    "print(df.loc[1])"
   ]
  },
  {
   "cell_type": "markdown",
   "metadata": {},
   "source": [
    "# 3. Removing Unnecessary Columns"
   ]
  },
  {
   "cell_type": "code",
   "execution_count": 10,
   "metadata": {},
   "outputs": [],
   "source": [
    "df=df.drop(['release_date','index','line_number','album'],axis=1)"
   ]
  },
  {
   "cell_type": "code",
   "execution_count": 11,
   "metadata": {},
   "outputs": [],
   "source": [
    "org=df #to store a copy"
   ]
  },
  {
   "cell_type": "code",
   "execution_count": 12,
   "metadata": {},
   "outputs": [
    {
     "name": "stdout",
     "output_type": "stream",
     "text": [
      "                              song_title  \\\n",
      "0                                 Lover    \n",
      "1                                 Lover    \n",
      "2                                 Lover    \n",
      "3                                 Lover    \n",
      "4                                 Lover    \n",
      "...                                  ...   \n",
      "16279  Picture to Burn (Live From SoHo)    \n",
      "16280  Picture to Burn (Live From SoHo)    \n",
      "16281  Picture to Burn (Live From SoHo)    \n",
      "16282  Picture to Burn (Live From SoHo)    \n",
      "16283  Picture to Burn (Live From SoHo)    \n",
      "\n",
      "                                                   lyric  \n",
      "0                                              [Verse 1]  \n",
      "1      We could leave the Christmas lights up 'til Ja...  \n",
      "2               And this is our place, we make the rules  \n",
      "3      And there's a dazzling haze, a mysterious way ...  \n",
      "4               Have I known you 20 seconds or 20 years?  \n",
      "...                                                  ...  \n",
      "16279                       Burn, burn, burn, baby, burn  \n",
      "16280                You're just another picture to burn  \n",
      "16281                                         Baby, burn  \n",
      "16282                                 Thank you so much!  \n",
      "16283                                         Thank you!  \n",
      "\n",
      "[16284 rows x 2 columns]\n"
     ]
    }
   ],
   "source": [
    "print(df)"
   ]
  },
  {
   "cell_type": "markdown",
   "metadata": {},
   "source": [
    "# 4. Data Cleaning"
   ]
  },
  {
   "cell_type": "code",
   "execution_count": 13,
   "metadata": {},
   "outputs": [],
   "source": [
    "spec_chars = [\"!\",'\"',\"#\",\"%\",\"&\",\"(\",\")\",\n",
    "              \"*\",\"+\",\",\",\"-\",\".\",\"/\",\":\",\";\",\"<\",\n",
    "              \"=\",\">\",\"?\",\"@\",\"[\",\"\\\\\",\"]\",\"^\",\"_\",\n",
    "              \"`\",\"{\",\"|\",\"}\",\"~\",\"–\"]\n",
    "for char in spec_chars:\n",
    "    df['lyric'] = df['lyric'].str.replace(char, ' ')\n",
    "df['lyric'] = df['lyric'].str.replace(\"'\", '')"
   ]
  },
  {
   "cell_type": "markdown",
   "metadata": {},
   "source": [
    "# 5.Making an array of song name and lyrics"
   ]
  },
  {
   "cell_type": "code",
   "execution_count": 14,
   "metadata": {},
   "outputs": [],
   "source": [
    "base=[]\n",
    "s_name=df.loc[0][0]\n",
    "st=\"\"\n",
    "for i, j in df.iterrows(): \n",
    "    if(j[0]==s_name):\n",
    "        st+=\" \"+j[1] #adding lines to the string of a song\n",
    "    else:\n",
    "        base.append([s_name,st]) #adding the song to array\n",
    "        s_name=j[0]\n",
    "        st=\"\"\n",
    "        \n",
    "        \n",
    "        \n",
    "        "
   ]
  },
  {
   "cell_type": "code",
   "execution_count": 15,
   "metadata": {},
   "outputs": [
    {
     "data": {
      "text/plain": [
       "342"
      ]
     },
     "execution_count": 15,
     "metadata": {},
     "output_type": "execute_result"
    }
   ],
   "source": [
    "len(base) #No of songs"
   ]
  },
  {
   "cell_type": "code",
   "execution_count": 16,
   "metadata": {},
   "outputs": [],
   "source": [
    "frame= DataFrame (base,columns=['name','lyrics']) #Converting back to data frame"
   ]
  },
  {
   "cell_type": "code",
   "execution_count": null,
   "metadata": {},
   "outputs": [],
   "source": [
    "frame.head()"
   ]
  },
  {
   "cell_type": "markdown",
   "metadata": {},
   "source": [
    "# 6. Using Mathematical Similarity calculation using TFIDF and cosine"
   ]
  },
  {
   "cell_type": "code",
   "execution_count": 12,
   "metadata": {},
   "outputs": [],
   "source": [
    "# Initialize tfidf vectorizer\n",
    "tfidf = TfidfVectorizer(analyzer='word', stop_words='english')\n",
    "\n",
    "# Fit and transform \n",
    "tfidf_matrix = tfidf.fit_transform(frame['lyrics'])"
   ]
  },
  {
   "cell_type": "code",
   "execution_count": 13,
   "metadata": {},
   "outputs": [],
   "source": [
    "from sklearn.metrics.pairwise import cosine_similarity\n",
    "cosine_similarities = cosine_similarity(tfidf_matrix)\n",
    "similarities = {}\n",
    "for i in range(len(cosine_similarities)):\n",
    "    # Now we'll sort each element in cosine_similarities and get the indexes of the songs. \n",
    "    similar_indices = cosine_similarities[i].argsort()[:-50:-1] \n",
    "    # After that, we'll store in similarities each name of the 50 most similar songs.\n",
    "    # Except the first one that is the same song.\n",
    "    similarities[frame['name'].iloc[i]] = [(cosine_similarities[i][x], frame['name'][x]) for x in similar_indices][1:]\n"
   ]
  },
  {
   "cell_type": "code",
   "execution_count": 14,
   "metadata": {},
   "outputs": [],
   "source": [
    "class ContentBasedRecommender:\n",
    "    def __init__(self, matrix):\n",
    "        self.matrix_similar = matrix\n",
    "\n",
    "    def _print_message(self, song, recom_song):\n",
    "        rec_items = len(recom_song)\n",
    "        \n",
    "        print(f'The {rec_items} recommended songs for {song} are:')\n",
    "        for i in range(rec_items):\n",
    "            print(f\"Number {i+1}:\")\n",
    "            print(f\"{recom_song[i][1]} with {round(recom_song[i][0], 3)} similarity score\") \n",
    "            print(\"--------------------\")\n",
    "        \n",
    "    def recommend(self, recommendation):\n",
    "        # Get song to find recommendations for\n",
    "        song = recommendation['song']\n",
    "        # Get number of songs to recommend\n",
    "        number_songs = recommendation['number_songs']\n",
    "        # Get the number of songs most similars from matrix similarities\n",
    "        recom_song = self.matrix_similar[song][:number_songs]\n",
    "        # print each item\n",
    "        self._print_message(song=song, recom_song=recom_song)\n",
    "\n"
   ]
  },
  {
   "cell_type": "markdown",
   "metadata": {},
   "source": [
    "# 7. Recommendation System"
   ]
  },
  {
   "cell_type": "code",
   "execution_count": 15,
   "metadata": {},
   "outputs": [],
   "source": [
    "# Instantiate class\n",
    "recommedations = ContentBasedRecommender(similarities)\n",
    "\n"
   ]
  },
  {
   "cell_type": "code",
   "execution_count": null,
   "metadata": {},
   "outputs": [],
   "source": []
  },
  {
   "cell_type": "code",
   "execution_count": 17,
   "metadata": {},
   "outputs": [
    {
     "name": "stdout",
     "output_type": "stream",
     "text": [
      "Enter the song name:Lover\n",
      "\n",
      "Which one of these songs you want :\n",
      "0 Lover \n",
      "335 City of Lover : Setlist \n",
      "336 Lover (Live from Paris) \n",
      "\n",
      "enter the song number 0\n",
      "enter the number of recommendations needed 5\n"
     ]
    }
   ],
   "source": [
    "#Commenting this cell because it requires dynamic input and cant show output here\n",
    "\n",
    "inp= input(\"Enter the song name:\")\n",
    "print(\"\")\n",
    "print(\"Which one of these songs you want :\")\n",
    "for i,j in frame.iterrows():\n",
    "    if (j[0].find(inp)>=0):\n",
    "       print(i,j[0])\n",
    "        \n",
    "print(\"\")\n",
    "num=input(\"enter the song number \")\n",
    "num=int(num)\n",
    "num_son= input(\"enter the number of recommendations needed \")\n",
    "num_son= int(num_son)\n",
    "    \n",
    "    "
   ]
  },
  {
   "cell_type": "code",
   "execution_count": null,
   "metadata": {},
   "outputs": [],
   "source": [
    "# num=0 #ID for Lover\n",
    "# num_son = 3 #top 3 songs"
   ]
  },
  {
   "cell_type": "code",
   "execution_count": 18,
   "metadata": {},
   "outputs": [
    {
     "name": "stdout",
     "output_type": "stream",
     "text": [
      "The 5 recommended songs for Lover  are:\n",
      "Number 1:\n",
      "Lover (Live from Paris)  with 1.0 similarity score\n",
      "--------------------\n",
      "Number 2:\n",
      "AMAs Artist of the Decade Performance  with 0.21 similarity score\n",
      "--------------------\n",
      "Number 3:\n",
      "Wildest Dreams / Enchanted  with 0.163 similarity score\n",
      "--------------------\n",
      "Number 4:\n",
      "Better Off  with 0.148 similarity score\n",
      "--------------------\n",
      "Number 5:\n",
      "New Romantics  with 0.136 similarity score\n",
      "--------------------\n"
     ]
    }
   ],
   "source": [
    "# Create dict to pass\n",
    "recommendation = {\n",
    "    \"song\": frame['name'].iloc[num],\n",
    "    \"number_songs\":  num_son\n",
    "}\n",
    "\n",
    "# Recommend\n",
    "recommedations.recommend(recommendation)"
   ]
  },
  {
   "cell_type": "markdown",
   "metadata": {},
   "source": [
    "# A better recommendation system using SpaCy(NLP Library)"
   ]
  },
  {
   "cell_type": "code",
   "execution_count": 2,
   "metadata": {},
   "outputs": [
    {
     "data": {
      "text/plain": [
       "array([-5.36412969e-02,  2.79353321e-01, -1.05259977e-01, -1.76284965e-02,\n",
       "        1.34550199e-01,  1.92671806e-01,  5.50469756e-03, -2.39132687e-01,\n",
       "       -4.06342074e-02,  1.78010297e+00, -1.80772960e-01,  1.02661893e-01,\n",
       "        6.84069991e-02, -5.09319194e-02, -7.65837058e-02, -3.77540514e-02,\n",
       "        8.24129581e-03,  1.37752008e+00, -1.78934380e-01, -5.76109104e-02,\n",
       "        1.66338980e-02, -3.62196006e-02, -7.48579949e-02,  4.40651290e-02,\n",
       "       -2.65241470e-02,  2.41529979e-02,  9.79370065e-03, -1.13990309e-03,\n",
       "        1.59522101e-01, -1.56648397e-01, -9.12139937e-02,  9.11872908e-02,\n",
       "        1.07169405e-01, -1.08843103e-01, -7.94988051e-02, -4.74919155e-02,\n",
       "       -1.60613850e-01, -2.82304995e-02, -1.03425637e-01, -1.14933215e-01,\n",
       "        1.62531182e-01, -1.01342008e-01,  2.17013666e-03,  3.47881988e-02,\n",
       "       -6.34927005e-02,  2.44374484e-01, -3.01910043e-02, -1.46046979e-02,\n",
       "       -1.06488302e-01,  6.26319647e-03, -1.30655810e-01,  7.04905912e-02,\n",
       "       -4.86716032e-02,  3.78802009e-02,  8.03539976e-02,  6.92120939e-02,\n",
       "       -1.90451387e-02, -1.12328693e-01,  6.94227666e-02, -1.64191097e-01,\n",
       "       -1.31847098e-01, -1.49894238e-01, -1.36391714e-01,  1.40043885e-01,\n",
       "       -9.31040943e-03, -2.03303784e-01,  9.60722417e-02,  2.30206400e-01,\n",
       "        2.50716810e-03,  2.02762410e-01,  4.17191163e-02,  3.99811044e-02,\n",
       "        1.92619696e-01, -1.40993387e-01,  1.25155553e-01, -1.58516970e-02,\n",
       "        1.09475099e-01, -7.27410093e-02, -2.68682182e-01,  2.30902284e-01,\n",
       "        2.34210819e-01,  1.11316703e-01, -9.12195072e-02, -2.42443047e-02,\n",
       "        1.42992407e-01, -2.19214275e-01,  4.11447994e-02, -2.86822319e-01,\n",
       "        2.63879955e-01, -5.77340014e-02, -1.64064974e-01, -2.05429066e-02,\n",
       "       -1.22913897e-01,  1.18417896e-01,  1.84989497e-01,  1.00361109e-01,\n",
       "        9.49232131e-02,  6.60311952e-02, -9.33668986e-02, -1.59936994e-02,\n",
       "       -2.31165010e-02, -6.52898028e-02, -1.23388097e-01, -4.01628986e-02,\n",
       "        1.45462602e-01, -8.75642002e-01,  9.09521952e-02, -5.13979010e-02,\n",
       "        7.28402957e-02, -1.27135485e-01, -1.40351206e-01, -2.07270592e-01,\n",
       "        4.01909929e-03, -7.35395998e-02, -9.45103019e-02,  1.21432200e-01,\n",
       "       -1.18193254e-01,  1.45202488e-01,  1.25529768e-03, -2.94554029e-02,\n",
       "       -4.62799985e-03, -9.12842974e-02,  5.74196987e-02,  6.77531958e-02,\n",
       "        1.48049906e-01,  1.29439309e-01, -1.82068050e-02, -2.13463187e-01,\n",
       "        1.48183014e-02, -2.44854987e-02,  4.59263101e-02, -9.94249955e-02,\n",
       "       -2.04361603e-01,  1.12105906e-01,  1.94074497e-01, -7.32466131e-02,\n",
       "       -4.93362956e-02,  6.62797887e-04,  5.34777045e-02, -9.54100639e-02,\n",
       "       -1.28930104e+00,  8.45059007e-02,  1.24973014e-01, -3.43775041e-02,\n",
       "        5.58522530e-02, -1.11490890e-01, -8.01380053e-02, -7.85033032e-02,\n",
       "        7.36995935e-02, -2.37317413e-01, -8.74600112e-02, -6.93827048e-02,\n",
       "        4.13617417e-02,  7.55745023e-02, -4.00402024e-03,  2.58650188e-03,\n",
       "       -1.34799585e-01, -1.64788991e-01, -1.63010061e-02,  8.57740361e-03,\n",
       "       -6.23569898e-02, -9.51829739e-03,  2.04498690e-04, -4.45383005e-02,\n",
       "       -2.48028159e-01, -8.60313028e-02, -5.29805943e-02, -7.82409310e-02,\n",
       "        1.80566125e-02, -1.05987206e-01, -1.14582300e-01,  3.88075039e-02,\n",
       "        4.69984934e-02, -1.76031515e-01,  3.83771993e-02,  2.42205989e-02,\n",
       "       -9.93327945e-02, -7.79675990e-02,  5.88746071e-02,  1.01415277e-01,\n",
       "       -2.67262999e-02, -8.07069987e-02, -1.39405075e-02, -6.47260174e-02,\n",
       "        1.52794840e-02, -3.01251654e-02, -1.49534196e-01, -5.98808043e-02,\n",
       "        2.09884485e-03, -1.24438748e-01,  3.57211009e-02, -6.95929816e-03,\n",
       "       -1.68785602e-01,  7.65989721e-03,  9.05171037e-02,  3.18026006e-01,\n",
       "       -6.16580024e-02, -1.26068696e-01, -8.25089961e-02,  5.57253957e-02,\n",
       "       -8.41946006e-02, -1.90070719e-01, -1.62521005e-03, -6.82969540e-02,\n",
       "        2.41109580e-01,  4.19945940e-02, -1.37534011e-02,  8.93083215e-02,\n",
       "        1.09719690e-02,  3.18845995e-02, -1.14059210e-01,  4.48014028e-02,\n",
       "        4.13361900e-02, -2.82665312e-01, -9.96703953e-02,  1.46997511e-01,\n",
       "       -4.94053029e-02,  3.08074001e-02, -2.00760528e-01,  9.90296379e-02,\n",
       "        3.79908979e-02,  4.67142351e-02,  4.77707013e-02,  1.34153992e-01,\n",
       "       -5.08050108e-03,  4.39774953e-02,  7.36405998e-02,  1.02516197e-01,\n",
       "        1.28911704e-01, -4.55930941e-02, -1.20674014e-01,  2.43296027e-02,\n",
       "       -3.02500520e-02,  1.66422293e-01, -7.97684118e-02, -5.26273735e-02,\n",
       "       -1.23622812e-01,  4.27368023e-02, -6.21971004e-02,  1.25764996e-01,\n",
       "        1.84183091e-01,  1.07203998e-01, -2.95391623e-02,  1.42826796e-01,\n",
       "        1.09824881e-01, -1.99228719e-01, -1.49215404e-02, -2.23988891e-01,\n",
       "        1.06461301e-01,  7.05484003e-02,  6.54515028e-02, -1.27890497e-01,\n",
       "        3.23300287e-02,  7.33296275e-02,  1.88077211e-01,  1.18194893e-01,\n",
       "        8.73716325e-02, -7.22722933e-02,  5.59383444e-02,  6.47740066e-03,\n",
       "        2.00715184e-01,  9.62314978e-02, -3.48809664e-03,  2.75218002e-02,\n",
       "        2.66793407e-02, -4.74142991e-02, -6.72583003e-03,  6.16225004e-02,\n",
       "        6.77095532e-01, -2.60432009e-02, -5.73220849e-02, -1.32674202e-01,\n",
       "       -1.45575196e-01, -2.10457489e-01,  5.04911169e-02,  3.34890969e-02,\n",
       "        1.69010018e-03,  7.47893304e-02,  1.15959838e-01,  1.70419499e-01,\n",
       "        2.78796494e-01,  6.95598137e-04,  1.38465315e-01, -1.39558002e-01,\n",
       "       -1.05340723e-02, -3.17818001e-02,  1.44083828e-01,  1.84036009e-02,\n",
       "        7.65393823e-02, -1.08156681e-01, -1.86349601e-01, -1.51499901e-02,\n",
       "       -2.16642022e-02, -4.31120396e-03,  8.77634883e-02, -6.35844022e-02,\n",
       "       -1.29146904e-01, -2.63259001e-02, -1.46536082e-01,  2.72397280e-01],\n",
       "      dtype=float32)"
      ]
     },
     "execution_count": 2,
     "metadata": {},
     "output_type": "execute_result"
    }
   ],
   "source": [
    "import spacy\n",
    "# Load the spacy model that you have installed\n",
    "nlp = spacy.load('en_core_web_md')\n",
    "# process a sentence using the model\n",
    "doc = nlp(\"This is some text that I am processing with Spacy\")\n",
    "# It's that simple - all of the vectors and words are assigned after this point\n",
    "# Get the vector for 'text':\n",
    "doc[3].vector\n",
    "# Get the mean vector for the entire sentence (useful for sentence classification etc.)\n",
    "doc.vector"
   ]
  },
  {
   "cell_type": "code",
   "execution_count": 28,
   "metadata": {},
   "outputs": [],
   "source": [
    "dict={} #Dictionary of all song names and lyrics\n",
    "for i,j in frame.iterrows():\n",
    "    dict[j[0]]=j[1]"
   ]
  },
  {
   "cell_type": "code",
   "execution_count": 40,
   "metadata": {},
   "outputs": [
    {
     "name": "stdout",
     "output_type": "stream",
     "text": [
      "Enter the song name:Lover\n",
      "\n",
      "Which one of these songs you want :\n",
      "0 Lover \n",
      "335 City of Lover : Setlist \n",
      "336 Lover (Live from Paris) \n",
      "\n",
      "enter the song number 0\n",
      "enter the number of recommendations needed 5\n"
     ]
    }
   ],
   "source": [
    "\n",
    "inp= input(\"Enter the song name:\")\n",
    "print(\"\")\n",
    "print(\"Which one of these songs you want :\")\n",
    "for i,j in frame.iterrows():\n",
    "    if (j[0].find(inp)>=0):\n",
    "       print(i,j[0])\n",
    "        \n",
    "print(\"\")\n",
    "num=input(\"enter the song number \")\n",
    "num=int(num)\n",
    "num_son= input(\"enter the number of recommendations needed \")\n",
    "num_son= int(num_son)\n",
    "    \n",
    "    "
   ]
  },
  {
   "cell_type": "code",
   "execution_count": 41,
   "metadata": {},
   "outputs": [
    {
     "name": "stderr",
     "output_type": "stream",
     "text": [
      "/home/aabhaas/anaconda3/lib/python3.7/site-packages/ipykernel_launcher.py:5: UserWarning: [W008] Evaluating Doc.similarity based on empty vectors.\n",
      "  \"\"\"\n"
     ]
    }
   ],
   "source": [
    "curr_song= nlp(frame.loc[num][1])\n",
    "sim_dict= {} #making similarity matrix\n",
    "for i,j in frame.iterrows():\n",
    "    doc= nlp(j[1])\n",
    "    sim_dict[j[0]]=curr_song.similarity(doc)\n",
    "    if (i==num):\n",
    "        sim_dict[j[0]]=0 #cancelling the case of same song\n",
    "    \n",
    "\n"
   ]
  },
  {
   "cell_type": "code",
   "execution_count": 42,
   "metadata": {},
   "outputs": [
    {
     "name": "stdout",
     "output_type": "stream",
     "text": [
      "The top recommended songs are:\n",
      "Keys: Values\n",
      "Lover (Live from Paris)   : 0.9999087908620512  \n",
      "Last Kiss   : 0.9892939286438064  \n",
      "My Turn To Be Me   : 0.9870838557177137  \n",
      "​peace   : 0.9867175527944216  \n",
      "My Cure   : 0.9858845119147734  \n"
     ]
    }
   ],
   "source": [
    "from collections import Counter \n",
    "  \n",
    "k = Counter(sim_dict) \n",
    "  \n",
    "# Finding 3 highest values \n",
    "high = k.most_common(num_son)  \n",
    "print(\"The top recommended songs are:\") \n",
    "print(\"Keys: Values\") \n",
    "  \n",
    "for i in high: \n",
    "    print(i[0],\" :\",i[1],\" \") "
   ]
  },
  {
   "cell_type": "code",
   "execution_count": null,
   "metadata": {},
   "outputs": [],
   "source": []
  }
 ],
 "metadata": {
  "kernelspec": {
   "display_name": "Python 3",
   "language": "python",
   "name": "python3"
  },
  "language_info": {
   "codemirror_mode": {
    "name": "ipython",
    "version": 3
   },
   "file_extension": ".py",
   "mimetype": "text/x-python",
   "name": "python",
   "nbconvert_exporter": "python",
   "pygments_lexer": "ipython3",
   "version": "3.7.6"
  }
 },
 "nbformat": 4,
 "nbformat_minor": 4
}
